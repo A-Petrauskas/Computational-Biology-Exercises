{
 "cells": [
  {
   "cell_type": "markdown",
   "metadata": {},
   "source": [
    "<style> h1 {text-align: center} </style>\n",
    "\n",
    "<h1>Task 1</h1>\n",
    "<p>This program implements the Needleman-Wunsch for proteins. Blosum 50 was used as the scoring matrix and thanks to it the most likely match can be calulated via dynamic progaming (with while loop, not recursion). The total sum of substitution scores and gap penalties is also displayed. The code is commented to explain each stage.</p>"
   ]
  },
  {
   "cell_type": "code",
   "execution_count": 1,
   "metadata": {},
   "outputs": [],
   "source": [
    "import numpy as np\n",
    "\n",
    "def NeedlemanWunsch(sequenceX, sequenceY, gap = -8):\n",
    "    blosom50 = np.array(np.loadtxt('blosum50.txt'))\n",
    "    labels = ['A','R','N','D','C','Q','E','G','H','I','L','K','M','F','P','S','T','W','Y','V']\n",
    "\n",
    "    row = len(sequenceX) + 1\n",
    "    col = len(sequenceY) + 1\n",
    "\n",
    "    # Initialize with zeros\n",
    "    matrix = np.zeros((row, col))\n",
    "    checkingMatrix = np.zeros((row, col))\n",
    "\n",
    "    for i in range(row - 1):\n",
    "        for j in range(col - 1):\n",
    "            xLetterPos = labels.index(sequenceX[i])\n",
    "            yLetterPos = labels.index(sequenceY[j])\n",
    "            checkingMatrix[i][j] = blosom50[xLetterPos, yLetterPos]\n",
    "\n",
    "    # Initialise first two row and column according to gap\n",
    "    for i in range(row):\n",
    "        matrix[i][0] = i * gap\n",
    "    for i in range(col):\n",
    "        matrix[0][i] = i * gap\n",
    "\n",
    "    # Filling the matrix\n",
    "    for i in range(1, row):\n",
    "        for j in range(1, col):\n",
    "            matrix[i][j] = max (matrix[i-1][j-1] + checkingMatrix[i-1][j-1],\n",
    "                                    matrix[i-1][j] + gap,\n",
    "                                matrix[i][j-1] + gap)\n",
    "\n",
    "    xLength = len(sequenceX)\n",
    "    yLength = len(sequenceY)\n",
    "    aligned_1 = \"\"\n",
    "    aligned_2 = \"\"\n",
    "\n",
    "    # Building up the aligned sequences\n",
    "    while (xLength > 0 or yLength > 0):\n",
    "        if (xLength > 0 and yLength > 0 and matrix[xLength][yLength] == matrix[xLength - 1][yLength - 1] + checkingMatrix[xLength - 1][yLength - 1]):\n",
    "            aligned_1 = sequenceX[xLength - 1] + aligned_1\n",
    "            aligned_2 = sequenceY[yLength - 1] + aligned_2\n",
    "\n",
    "            xLength = xLength - 1\n",
    "            yLength = yLength - 1\n",
    "\n",
    "        elif(xLength > 0 and matrix[xLength][yLength] == matrix[xLength - 1][yLength] + gap):\n",
    "            aligned_1 = sequenceX[xLength - 1] + aligned_1\n",
    "            aligned_2 = \"-\" + aligned_2\n",
    "\n",
    "            xLength = xLength - 1\n",
    "\n",
    "        else:\n",
    "            aligned_1 = \"-\" + aligned_1\n",
    "            aligned_2 = sequenceY[yLength - 1] + aligned_2\n",
    "\n",
    "            yLength = yLength - 1\n",
    "\n",
    "    return aligned_1 + \"\\n\" + aligned_2 + \"\\nGlobal protein alignment score: \" + str(matrix[row - 1][col - 1])"
   ]
  },
  {
   "cell_type": "markdown",
   "metadata": {},
   "source": [
    "<p> The given two pairs of sequences:"
   ]
  },
  {
   "cell_type": "code",
   "execution_count": 22,
   "metadata": {},
   "outputs": [
    {
     "name": "stdout",
     "output_type": "stream",
     "text": [
      "HEAGAWGHE-E\n",
      "--P-AW-HEAE\n",
      "Global protein alignment score: 1.0\n",
      "\n",
      "-SALPQPTTPVSSFTSGSMLGRTDTALTNTYSAL-\n",
      "PSPTMEAVTSVEA-STASHPHSTSSYFATTYYHLY\n",
      "Global protein alignment score: 7.0\n"
     ]
    }
   ],
   "source": [
    "x1 = \"HEAGAWGHEE\"\n",
    "y1 = \"PAWHEAE\"\n",
    "print(NeedlemanWunsch(x1, y1) + \"\\n\")\n",
    "\n",
    "x2 = \"SALPQPTTPVSSFTSGSMLGRTDTALTNTYSAL\"\n",
    "y2 = \"PSPTMEAVTSVEASTASHPHSTSSYFATTYYHLY\"\n",
    "print(NeedlemanWunsch(x2, y2))"
   ]
  },
  {
   "cell_type": "markdown",
   "metadata": {},
   "source": [
    "<style> h1 {text-align: center} </style>\n",
    "<h1>Task 2</h1>\n",
    "<p>This program implements the Smith-Waterman algorithm. This time it is using directions to for backwards traversal. Using the Blosum 50 to find the best local match between two sequences. The code is commented to explain each stage.</p>"
   ]
  },
  {
   "cell_type": "code",
   "execution_count": 23,
   "metadata": {},
   "outputs": [],
   "source": [
    "from enum import IntEnum\n",
    "import numpy as np\n",
    "\n",
    "blosom50 = np.array(np.loadtxt('blosum50.txt'))\n",
    "labels = ['A','R','N','D','C','Q','E','G','H','I','L','K','M','F','P','S','T','W','Y','V']\n",
    "\n",
    "# The directions for tracing are defined\n",
    "class Trace(IntEnum):\n",
    "    END = 0\n",
    "    LEFT = 1 \n",
    "    UP = 2\n",
    "    DIAGONAL = 3\n",
    "\n",
    "# Function for checking against the Blosum 50\n",
    "def checkScore (letterSeq1, letterSeq2):\n",
    "    seq1LetterPos = labels.index(letterSeq1)\n",
    "    seq2LetterPos = labels.index(letterSeq2)\n",
    "    score = blosom50[seq1LetterPos, seq2LetterPos]\n",
    "    \n",
    "    return score\n",
    "\n",
    "\n",
    "def SmithWaterman(seq1, seq2, gap = -8):\n",
    "    row = len(seq1) + 1\n",
    "    col = len(seq2) + 1\n",
    "    \n",
    "    # Initialize with zeros\n",
    "    matrix = np.zeros((row, col))  \n",
    "    tracingMatrix = np.zeros((row, col))  \n",
    "    \n",
    "    # For finding the max value (from where to backtrack)\n",
    "    maxScore = -1\n",
    "    maxScoreIndex = (-1, -1)\n",
    "    \n",
    "    for i in range(1, row):\n",
    "        for j in range(1, col):\n",
    "            # Getting the scores for each direction\n",
    "            diagonalScore = matrix[i - 1, j - 1] + checkScore(seq1[i - 1], seq2[j - 1])\n",
    "            verticalScore = matrix[i - 1, j] + gap\n",
    "            horizontalScore = matrix[i, j - 1] + gap\n",
    "\n",
    "            # Getting max score !Including 0!\n",
    "            matrix[i, j] = max(diagonalScore, verticalScore, horizontalScore, 0)\n",
    "               \n",
    "            # Assigning tracing directions\n",
    "            if (matrix[i, j] == 0): \n",
    "                tracingMatrix[i, j] = Trace.END\n",
    "                \n",
    "            elif (matrix[i, j] == horizontalScore): \n",
    "                tracingMatrix[i, j] = Trace.LEFT\n",
    "                \n",
    "            elif (matrix[i, j] == verticalScore): \n",
    "                tracingMatrix[i, j] = Trace.UP\n",
    "                \n",
    "            elif (matrix[i, j] == diagonalScore): \n",
    "                tracingMatrix[i, j] = Trace.DIAGONAL \n",
    "                \n",
    "            # Finding the max value (to start backtracking from)\n",
    "            if (matrix[i, j] >= maxScore):\n",
    "                maxScoreIndex = (i,j)\n",
    "                maxScore = matrix[i, j]\n",
    "    \n",
    "    aligned1 = \"\"\n",
    "    aligned2 = \"\"\n",
    "    (maxScoreRow, maxScoreCol) = maxScoreIndex\n",
    "    \n",
    "    # Backtracking to find the optimal sequence\n",
    "    while (tracingMatrix[maxScoreRow, maxScoreCol] != Trace.END):\n",
    "        if (tracingMatrix[maxScoreRow, maxScoreCol] == Trace.DIAGONAL):\n",
    "            aligned1 = seq1[maxScoreRow - 1] + aligned1\n",
    "            aligned2 = seq2[maxScoreCol - 1] + aligned2\n",
    "            maxScoreRow = maxScoreRow - 1\n",
    "            maxScoreCol = maxScoreCol - 1\n",
    "            \n",
    "        elif (tracingMatrix[maxScoreRow, maxScoreCol] == Trace.UP):\n",
    "            aligned1 = seq1[maxScoreRow - 1] + aligned1\n",
    "            aligned2 = '-' + aligned2\n",
    "            maxScoreRow = maxScoreRow - 1    \n",
    "            \n",
    "        elif (tracingMatrix[maxScoreRow, maxScoreCol] == Trace.LEFT):\n",
    "            aligned1 = '-' + aligned1\n",
    "            aligned2 = seq2[maxScoreCol - 1] + aligned2\n",
    "            maxScoreCol = maxScoreCol - 1\n",
    "    \n",
    "    return str(aligned1) + \"\\n\" + str(aligned2)"
   ]
  },
  {
   "cell_type": "markdown",
   "metadata": {},
   "source": [
    "<p>The given two pairs of sequences:<p> "
   ]
  },
  {
   "cell_type": "code",
   "execution_count": 24,
   "metadata": {},
   "outputs": [
    {
     "name": "stdout",
     "output_type": "stream",
     "text": [
      "AWGHE\n",
      "AW-HE\n",
      "\n",
      "HSGVNQLGGVFVNGRPLPDSTRQKIVELAHSGARPCDISRI\n",
      "HSGVNQLGGVFVGGRPLPDSTRQKIVELAHSGARPCDISRI\n"
     ]
    }
   ],
   "source": [
    "x1 = \"HEAGAWGHEE\"\n",
    "y1 = \"PAWHEAE\"\n",
    "print(SmithWaterman(x1, y1) + \"\\n\")\n",
    "\n",
    "x2 = \"MQNSHSGVNQLGGVFVNGRPLPDSTRQKIVELAHSGARPCDISRILQVSNGCVSKILGRY\"\n",
    "y2 = \"TDDECHSGVNQLGGVFVGGRPLPDSTRQKIVELAHSGARPCDISRI\"\n",
    "print(SmithWaterman(x2, y2))"
   ]
  },
  {
   "cell_type": "markdown",
   "metadata": {},
   "source": [
    "<style> h1 {text-align: center} </style>\n",
    "<h1>Task 3</h1>"
   ]
  },
  {
   "cell_type": "markdown",
   "metadata": {},
   "source": [
    "To test the BLAST sequence comparison algorithm I will use the online tool at https://blast.ncbi.nlm.nih.gov/.\n",
    "The sequences I will be testing are:\n",
    "\n",
    "Pax6 protein for the mouse: \n",
    "<i>MQNSHSGVNQLGGVFVNGRPLPDSTRQKIVELAHSGARPCDISRILQVSNGCVSKILGRY\n",
    "YETGSIRPRAIGGSKPRVATPEVVSKIAQYKRECPSIFAWEIRDRLLSEGVCTNDNIPSV\n",
    "SSINRVLRNLASEKQQMGADGMYDKLRMLNGQTGSWGTRPGWYPGTSVPGQPTQDGCQQQ\n",
    "EGGGENTNSISSNGEDSDEAQMRLQLKRKLQRNRTSFTQEQIEALEKEFERTHYPDVFAR\n",
    "ERLAAKIDLPEARIQVWFSNRRAKWRREEKLRNQRRQASNTPSHIPISSSFSTSVYQPIP\n",
    "QPTTPVSSFTSGSMLGRTDTALTNTYSALPPMPSFTMANNLPMQPPVPSQTSSYSCMLPT\n",
    "SPSVNGRSYDTYTPPHMQTHMNSQPMGTSGTTSTGLISPGVSVPVQVPGSEPDMSQYWPR\n",
    "LQ</i>\n",
    "\n",
    "and Eyeless protein (Fragment) of the fruit fly:\n",
    "<i>NVIAMRNLPCLGTAGGSGLGGIAGKPSPTMEAVEASTASHPHSTSSYFATTYYHLTDDEC\n",
    "HSGVNQLGGVFVGGRPLPDSTRQKIVELAHSGARPCDISRI</i>\n",
    "\n",
    "These are the results I got:\n",
    "\n",
    "\n",
    "<code> \n",
    "Score:88.2 bits(217), Expect:2e-26, \n",
    "Method:Compositional matrix adjust., \n",
    "Identities:40/41(98%), Positives:40/41(97%), Gaps:0/41(0%)\n",
    "\n",
    "Query  5    HSGVNQLGGVFVNGRPLPDSTRQKIVELAHSGARPCDISRI  45  <p><--- sequence from the mouse</p>\n",
    "            HSGVNQLGGVFV GRPLPDSTRQKIVELAHSGARPCDISRI\n",
    "Sbjct  61   HSGVNQLGGVFVGGRPLPDSTRQKIVELAHSGARPCDISRI  101 <p><--- sequence from the fly</p>\n",
    "</code>\n",
    "\n",
    "<b>Conclusion:</b>\n",
    "Because E values with less than 1e-04 which is just <i>10</i><sup>-4</sup> can be considered homologous and our E value is 2e-26 it can be considered that these sequences are related.\n",
    "\n",
    "Out of both these sequences 40 amino acids match almost exactly (out of 41) - 98%"
   ]
  },
  {
   "cell_type": "markdown",
   "metadata": {},
   "source": [
    "<style> h1 {text-align: center} </style>\n",
    "<h1>Task 4</h1>\n",
    "<p>This program implements the Hidden Markov Machine. The code is commented to explain each stage.</p>"
   ]
  },
  {
   "cell_type": "code",
   "execution_count": 25,
   "metadata": {},
   "outputs": [],
   "source": [
    "import numpy as np\n",
    "\n",
    "nucleotides = [\"A\", \"T\", \"C\", \"G\"]\n",
    "states = [\"A\", \"C\"] # A - AT rich, C - CG rich\n",
    "\n",
    "# The emmision matrix corresponds to the probabilites of emitting A, T, C or G nucleotide (row)\n",
    "# in states AT rich and CG rich (columns) respectively\n",
    "emissionMatrix = np.array([\n",
    "       #A      #T       #C      #G\n",
    "\t[0.2698, 0.3237, 0.2080, 0.1985], # AT rich\n",
    "\t[0.2459, 0.2079, 0.2478, 0.2984]  # CG rich\n",
    "])\n",
    "\n",
    "# The transition matrix corresponds to the probabilites of transitioning from state to the same state\n",
    "# and from AT rich and CG rich respectively\n",
    "transitionMatrix = np.array([\n",
    "   #Same state      # Transition\n",
    "\t[0.9998,        0.0002],     # AT rich\n",
    "\t[0.0003,        0.9997]      # CG rich\n",
    "])\n",
    "\n",
    "\n",
    "def HMM(length):\n",
    "    generatedNucleotides = \"\"\n",
    "    generatedStates = \"\"\n",
    "\n",
    "# The start matrix does not need probabilites as they are 0.5 and 0.5\n",
    "# The np.random.choice() function if not given the parameter p assumes a uniform distribution over all entries\n",
    "    startState = np.random.choice(2)\n",
    "\n",
    "    currentState = startState\n",
    "\n",
    "    for i in range(length):\n",
    "        # Adding current state (within the emission is going to be made) to list\n",
    "        generatedStates += states[currentState]\n",
    "\n",
    "        # Generating a nucleotide (emission) according to state probabilities and adding to list\n",
    "        generatedNucleotides += np.random.choice(nucleotides, p = emissionMatrix[currentState])\n",
    "\n",
    "        # Generating state transition according to state transition probabilities\n",
    "        currentState = np.random.choice(2, p = transitionMatrix[currentState])\n",
    "\n",
    "    return generatedStates, generatedNucleotides"
   ]
  },
  {
   "cell_type": "markdown",
   "metadata": {},
   "source": [
    "\n",
    "\n",
    "<p>Running the Hidden Markov Machine the given amount of times (length of generated string):</p>"
   ]
  },
  {
   "cell_type": "code",
   "execution_count": 26,
   "metadata": {},
   "outputs": [
    {
     "name": "stdout",
     "output_type": "stream",
     "text": [
      "AAAAAAAAAAAAAAAAAAAAAAAAAAAAAAAAAAAAAAAAAAAAAAAAAAAAAAAAAAAAAAAAAAAAAAAAAAAAAAAAAAAAAAAAAAAAAAAAAAAA\n",
      "GATCACATAATGATCGAATGTTGCATAACTGTGCTAGTCACGCACTTTAGTTATTATTGTATAGGACTAGCCTATGACAATGTGAGTGGCGATCCAAACG\n"
     ]
    }
   ],
   "source": [
    "(generatedStates, generatedNucleotides) = HMM(100)\n",
    "print(generatedStates)\n",
    "print(generatedNucleotides)"
   ]
  },
  {
   "cell_type": "markdown",
   "metadata": {},
   "source": [
    "As the chance of transitioning to the other state are 0.0003 and 0.0002, we will really only see the same state and different nucleotides being generated."
   ]
  },
  {
   "cell_type": "markdown",
   "metadata": {},
   "source": [
    "<style> h1 {text-align: center} </style>\n",
    "<h1>Task 5</h1>\n",
    "<p>This program implements viterbi algorithm. The algorithm tries to find the maximum-likelihood the most rich CG regions in the given input.The code is commented to explain each stage.</p>"
   ]
  },
  {
   "cell_type": "code",
   "execution_count": 27,
   "metadata": {},
   "outputs": [],
   "source": [
    "def viterbi(states, transitionMatrix, sequence, startStateProbabilities):\n",
    "\n",
    "    # Define steps to build up a path\n",
    "    def viterbi_step(previousViterbiLog, letter, state, transitions):\n",
    "        transitionMatrixrobabilites = previousViterbiLog + np.log(transitions)\n",
    "        transition_argmax = np.argmax(transitionMatrixrobabilites)\n",
    "        return (transition_argmax,\n",
    "                np.log(state[letter]) + transitionMatrixrobabilites[transition_argmax])\n",
    "\n",
    "    viterbiLog = [np.log(np.array(startStateProbabilities))]\n",
    "    maxStateProbabilities = np.zeros(shape=(2,len(sequence)))\n",
    "\n",
    "    # Building path\n",
    "    for i, letter in enumerate(sequence):\n",
    "        viterbiLog.append(np.zeros((len(states),)))\n",
    "        for j, state in enumerate(states):\n",
    "            max_prob_state, v = viterbi_step(viterbiLog[i], letter, state, transitionMatrix[j])\n",
    "            maxStateProbabilities[j][i] = max_prob_state\n",
    "            viterbiLog[i+1][j] = v\n",
    "\n",
    "    max_states = [np.argmax(viterbiLog[-1])]\n",
    "    # Getting results\n",
    "    for i in range(len(sequence) - 1):\n",
    "        state = maxStateProbabilities[max_states[i]][len(sequence) - i - 1]\n",
    "        max_states.append(int(state))\n",
    "\n",
    "    return max_states[::-1]"
   ]
  },
  {
   "cell_type": "markdown",
   "metadata": {},
   "source": [
    "<style> h1 {text-align: center} </style>\n",
    "<h1>Task 6</h1>\n",
    "<p>The viterbi algorithm implemented in Task 5 is used here to find the maximum probability estimate of rich CG regions in a bacterial virus Lambda phage. The results are plotted using matplotlib to show the regions of most probabilty to be rich in CG:</p>"
   ]
  },
  {
   "cell_type": "code",
   "execution_count": 28,
   "metadata": {},
   "outputs": [
    {
     "data": {
      "text/plain": [
       "<matplotlib.image.AxesImage at 0x1b519101b10>"
      ]
     },
     "execution_count": 28,
     "metadata": {},
     "output_type": "execute_result"
    },
    {
     "data": {
      "image/png": "[encoded data removed]",
      "text/plain": [
       "<Figure size 21600x1440 with 1 Axes>"
      ]
     },
     "metadata": {
      "needs_background": "light"
     },
     "output_type": "display_data"
    }
   ],
   "source": [
    "%matplotlib inline \n",
    "from matplotlib import pyplot as plt\n",
    "\n",
    "# Definition of our HMM\n",
    "ATrich = {'A': 0.2698, 'T': 0.3237, 'C': 0.2080, 'G': 0.1985}\n",
    "CGrich = {'A': 0.2459, 'T': 0.2079, 'C': 0.2478, 'G': 0.2984}\n",
    "transitionMatrix = np.array([ [0.9998, 0.0002], [0.0003, 0.9997]])\n",
    "startStateProbabilities = [0.5, 0.5]\n",
    "\n",
    "# Loading in the given genome\n",
    "def loadFasta(filePath):\n",
    "    with open(filePath, 'r') as f:\n",
    "        data = f.read().replace('\\n', '')\n",
    "    return list(data)\n",
    "\n",
    "genome = loadFasta('lambda_phage.fasta')\n",
    "\n",
    "# Plotting the results\n",
    "array = np.append(np.array(viterbi([ATrich, CGrich], transitionMatrix, genome, startStateProbabilities)), [0])\n",
    "array = np.reshape(array, (169, 287))\n",
    "ax = plt.subplots(figsize=(300,20))[1]\n",
    "ax.imshow(np.rot90(array), cmap='magma')"
   ]
  }
 ],
 "metadata": {
  "interpreter": {
   "hash": "2852bb3ca31b76cb1ece86d86dfa8119728c4a005b2323c923769f0b5e971bf0"
  },
  "kernelspec": {
   "display_name": "Python 3 (ipykernel)",
   "language": "python",
   "name": "python3"
  },
  "language_info": {
   "codemirror_mode": {
    "name": "ipython",
    "version": 3
   },
   "file_extension": ".py",
   "mimetype": "text/x-python",
   "name": "python",
   "nbconvert_exporter": "python",
   "pygments_lexer": "ipython3",
   "version": "3.10.2"
  }
 },
 "nbformat": 4,
 "nbformat_minor": 2
}
