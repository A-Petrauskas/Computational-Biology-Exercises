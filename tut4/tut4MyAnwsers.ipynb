{
 "cells": [
  {
   "cell_type": "markdown",
   "metadata": {},
   "source": [
    "<h1><center>Tutorial 4</h1>"
   ]
  },
  {
   "cell_type": "markdown",
   "metadata": {},
   "source": [
    "<h2><center>Task 1</h2>"
   ]
  },
  {
   "cell_type": "markdown",
   "metadata": {},
   "source": [
    "Write down the differential equation describing the system of chemical equations (assuming a volume of 1)<br>\n",
    "∅ → X at a rate 1<br>\n",
    "X → Y at rate 2<br>\n",
    "2 X + Y → 3 X at rate 0.02<br>\n",
    "X → ∅ at rate 0.04"
   ]
  },
  {
   "cell_type": "markdown",
   "metadata": {},
   "source": [
    "First, the differential equation formula for X: <br>\n",
    "<b>Changes in amount of X = rate of production of X - rate of consumption of X</b> <br>\n",
    "\n",
    "<b>Rate of production of x = </b>\n",
    "$$\n",
    "  1+0.02{X^2}Y\n",
    "$$\n",
    "<br>\n",
    "\n",
    "<b>Rate of consumption of x = </b>\n",
    "$$\n",
    "2{X}+0.04X\n",
    "$$"
   ]
  },
  {
   "cell_type": "markdown",
   "metadata": {},
   "source": [
    "Therefore, <b>the changes in amount of X =</b> <br>\n",
    "\n",
    "$$\n",
    "1+0.02{X^2}Y-(2{X}+0.04X)\n",
    "$$"
   ]
  },
  {
   "cell_type": "markdown",
   "metadata": {},
   "source": [
    "The differential equation for X is\n",
    "$$\n",
    "    \\frac{δX}{δt}=1+0.02{X^2}{Y}−2.04{X}\n",
    "$$"
   ]
  },
  {
   "cell_type": "markdown",
   "metadata": {},
   "source": [
    "Second, differential equation for the chemical Y: <br>\n",
    "<b>Changes in amount of Y = rate of production of Y - rate of consumption of Y</b>\n",
    "<br>\n",
    "\n",
    "<b>Rate of production of Y = </b>\n",
    "$$\n",
    "    2{X}\n",
    "$$\n",
    "\n",
    "<b>Rate of consumption of Y = </b>\n",
    "$$\n",
    "    0.02{X^2}{Y}\n",
    "$$"
   ]
  },
  {
   "cell_type": "markdown",
   "metadata": {},
   "source": [
    "Therefore, <b>The changes in amount of Y = </b>\n",
    "$$\n",
    "{2X}-0.02{X^2}{Y}\n",
    "$$"
   ]
  },
  {
   "cell_type": "markdown",
   "metadata": {},
   "source": [
    "The differential equation for Y is <br>\n",
    "$$\n",
    "    \\frac{δY}{δt}={2X}-0.02{X^2}{Y}\n",
    "$$\n",
    "<br>"
   ]
  },
  {
   "cell_type": "markdown",
   "metadata": {},
   "source": [
    "<br><h2><center>Task 2</h2>"
   ]
  },
  {
   "cell_type": "markdown",
   "metadata": {},
   "source": [
    "Use a package to solve the differential equation for 500 time units starting from X(0)=Y(0)=0 (matlab will do this)"
   ]
  },
  {
   "cell_type": "markdown",
   "metadata": {},
   "source": [
    "<p>I will use the scipy.integrate.odeint to generate the solution to the ordinary differential equation (ODE). </p>"
   ]
  },
  {
   "cell_type": "code",
   "execution_count": 37,
   "metadata": {},
   "outputs": [
    {
     "data": {
      "image/png": "[encoded data removed]",
      "text/plain": [
       "<Figure size 432x288 with 1 Axes>"
      ]
     },
     "metadata": {
      "needs_background": "light"
     },
     "output_type": "display_data"
    }
   ],
   "source": [
    "import numpy as np\n",
    "from scipy.integrate import odeint\n",
    "import matplotlib.pyplot as plt\n",
    "\n",
    "# The chemical equations in Task 1\n",
    "def model(initial_vals,t):\n",
    "    x = initial_vals[0]\n",
    "    y = initial_vals[1]\n",
    "    dxdt = 1 + (0.02 * x * x * y) - (2.04 * x)\n",
    "    dydt = (2 * x) - (0.02 * x * x * y)\n",
    "    return [dxdt, dydt]\n",
    "\n",
    "# Starting from 0 reaction time units \n",
    "initial_vals = [0, 0]\n",
    "\n",
    "# Time units for the equation\n",
    "t = np.linspace(0, 500, 500)\n",
    "\n",
    "# Solve ODE\n",
    "# odeint required inputs:\n",
    "# 1. A function that returns derivative values.\n",
    "# 2. Initial conditions of the differential states.\n",
    "# 3. Time points at which the solution should be reported.\n",
    "y = odeint(model, initial_vals, t)\n",
    "\n",
    "# Plot results\n",
    "plt.plot(t,y[:,0],'b--')\n",
    "plt.plot(t,y[:,1],'y--')\n",
    "plt.xlabel('Time, t')\n",
    "plt.ylabel('Concentration')\n",
    "plt.legend(['ODE X','ODE Y'])\n",
    "plt.show()"
   ]
  },
  {
   "cell_type": "markdown",
   "metadata": {},
   "source": [
    "As seen in the figure above, X is initially being produced at a rate of 1 (from t=0 to t≈55).<br>\n",
    "But X is also being coverted into Y at the rate of 2, this can be seen by the steep and steady rise in Y (from t=0 to t≈55).<br>\n",
    "Once Y concentration reaches a threshold of t≈55, it starts to mix with X. The production of X then increases instantaneously (2 X + Y → 3 X at rate 0.02).<br>\n",
    "When Y almost runs out (concentration≈2), X reaches a steady state in a rate of 0.04 (X → ∅ at rate 0.04).\n",
    "<br>\n",
    "\n",
    "The solution to the differential equation of X reaches a steady state when the concentration is approximately 25.<br>\n",
    "The solution to the differential equation of Y reaches a steady state when the concentration is approximately 4."
   ]
  },
  {
   "cell_type": "markdown",
   "metadata": {},
   "source": [
    "<br><h2><center>Task 3</h2>"
   ]
  },
  {
   "cell_type": "markdown",
   "metadata": {},
   "source": [
    "Write a Gillespie algorithm to simulate the same four chemical equation and plot the results for 500 time units (note that this is a lot of data to plot and you might want to save and plot the data only after X or Y have changed in number by at least 5.\n"
   ]
  },
  {
   "cell_type": "code",
   "execution_count": 70,
   "metadata": {},
   "outputs": [
    {
     "data": {
      "image/png": "[encoded data removed]",
      "text/plain": [
       "<Figure size 432x288 with 1 Axes>"
      ]
     },
     "metadata": {
      "needs_background": "light"
     },
     "output_type": "display_data"
    }
   ],
   "source": [
    "import math\n",
    "import random as r\n",
    "\n",
    "# Moles in X and in Y\n",
    "moles = {'X' : 0, 'Y' : 0}\n",
    "\n",
    "# The moles of X and Y at each time step\n",
    "countAtT = []\n",
    "\n",
    "# Time steps\n",
    "t = 0\n",
    "dt = 0\n",
    "\n",
    "def init():\n",
    "    pass\n",
    "\n",
    "# Definitions of the chemical equations (reactions) in Task 1\n",
    "# ∅ → X at a rate 1\n",
    "def reaction1():\n",
    "    moles[\"X\"] += 1\n",
    "\n",
    "# X → Y at rate 2\n",
    "def reaction2():\n",
    "    moles[\"X\"] -= 1\n",
    "    moles[\"Y\"] += 1\n",
    "\n",
    "# 2 X + Y → 3 X at rate 0.02\n",
    "def reaction3():\n",
    "    moles[\"X\"] -= 2\n",
    "    moles[\"Y\"] -= 1\n",
    "    moles[\"X\"] += 3\n",
    "\n",
    "# X → ∅ at rate 0.04\n",
    "def reaction4():\n",
    "    moles[\"X\"] -= 1\n",
    "\n",
    "# All chemical reactions for random picking\n",
    "reactions = [reaction1, reaction2, reaction3, reaction4]\n",
    "    \n",
    "# Save the moles of X and Y at each time step, including the time step\n",
    "def addChange(t):\n",
    "    countAtT.append([t, moles[\"X\"], moles[\"Y\"]])\n",
    "\n",
    "# Calculate total propensity\n",
    "def getTotalPropensity():\n",
    "    # Propensities for each reaction\n",
    "    prop = [1, 2 * moles['X'], 0.02 * ((moles['X'] * moles['X']) * moles['Y']), 0.04 * moles['X']]\n",
    "    total_prop = sum(prop)\n",
    "    return total_prop\n",
    "\n",
    "# Get a list of propensities for X and Y, divided by total propensity\n",
    "def getProbabilities():\n",
    "    prop = [1, 2 * moles['X'], 0.02 * ((moles['X'] * moles['X']) * moles['Y']), 0.04 * moles['X']]\n",
    "    total_prop = sum(prop)\n",
    "    return [p/total_prop for p in prop]\n",
    "\n",
    "next_reaction = init\n",
    "# 500 time units\n",
    "while t < 500:\n",
    "    # Draw a random time\n",
    "    dt = -math.log(r.uniform(0.0, 1.0)) / getTotalPropensity()\n",
    "    next_reaction()\n",
    "    # Select the next reaction at random\n",
    "    next_reaction = r.choices(population = reactions, weights = getProbabilities(), k = 1)[0]\n",
    "    addChange(t)\n",
    "    t = t + dt\n",
    "\n",
    "plt.plot([x[0] for x in countAtT], [x[1] for x in countAtT], 'b')\n",
    "plt.plot([x[0] for x in countAtT], [x[2] for x in countAtT], 'y')\n",
    "plt.xlabel('Time, t')\n",
    "plt.ylabel('Number of Molecules')\n",
    "plt.legend(['Gillespie: X','Gillespie: Y'])\n",
    "plt.show()"
   ]
  },
  {
   "cell_type": "markdown",
   "metadata": {},
   "source": [
    "As expected, the Gillespie simulation produces more 'noisy' results.\n",
    "\n",
    "The Gillespie algorithm simulates reactions with small numbers of molecules, producing much greater variance.\n",
    "The seemingly random jumps significantly from the ODE results."
   ]
  }
 ],
 "metadata": {
  "interpreter": {
   "hash": "dfbdb55c2a700b2e5b216d4db6fc5b3246e49d94108267c92d5cc407fc4f75b1"
  },
  "kernelspec": {
   "display_name": "Python 3.10.2 64-bit",
   "language": "python",
   "name": "python3"
  },
  "language_info": {
   "codemirror_mode": {
    "name": "ipython",
    "version": 3
   },
   "file_extension": ".py",
   "mimetype": "text/x-python",
   "name": "python",
   "nbconvert_exporter": "python",
   "pygments_lexer": "ipython3",
   "version": "3.10.2"
  },
  "orig_nbformat": 4
 },
 "nbformat": 4,
 "nbformat_minor": 2
}
